{
 "cells": [
  {
   "cell_type": "markdown",
   "metadata": {},
   "source": [
    "# Introducing the Keras Functional API\n",
    "\n",
    "### Training neural networks with Tensorflow  and the Keras Functional API\n",
    "The Sequential model API is great for developing deep learning models in most situations, but it also has some limitations. One example is that it is not straightforward to define models that may have multiple different input sources, produce multiple output destinations or models that re-use layers. The Keras Functional API is a way to create models that are more flexible than the tf.keras.Sequential API. The functional API can handle models with non-linear topology, models with shared layers, and models with multiple inputs or outputs. The Keras Functional API provides a more flexible way for defining models. It specifically allows you to define multiple input or output models as well as models that share layers. More than that, it allows you to define ad hoc acyclic network graphs. The main idea that a deep learning model is usually a directed acyclic graph (DAG) of layers. So the Functional API is a way to build graphs of layers. Additionally, we will also talk about how regularization can help with model performance.\n",
    "\n",
    "**Learning Objectives**\n",
    "  1. Understand embeddings and how to create them with the feature column API\n",
    "  1. Understand Deep and Wide models and when to use them\n",
    "  1. Understand the Keras functional API and how to build a deep and wide model with it\n",
    "\n",
    "## Introduction\n",
    "\n",
    "In the last notebook, we learned about the Keras Sequential API. The [Keras Functional API](https://www.tensorflow.org/guide/keras#functional_api) provides an alternate way of building models which is more flexible. With the Functional API, we can build models with more complex topologies, multiple input or output layers, shared layers or non-sequential data flows (e.g. residual layers).\n",
    "\n",
    "In this notebook we'll use what we learned about feature columns to build a Wide & Deep model. Recall, that the idea behind Wide & Deep models is to join the two methods of learning through memorization and generalization by making a wide linear model and a deep learning model to accommodate both. You can have a look at the original research paper here: [Wide & Deep Learning for Recommender Systems](https://arxiv.org/abs/1606.07792).\n",
    "\n",
    "<img src='wide_deep.png' width='80%'>\n",
    "<sup>(image: https://ai.googleblog.com/2016/06/wide-deep-learning-better-together-with.html)</sup>\n",
    "\n",
    "The Wide part of the model is associated with the memory element. In this case, we train a linear model with a wide set of crossed features and learn the correlation of this related data with the assigned label. The Deep part of the model is associated with the generalization element where we use embedding vectors for features. The best embeddings are then learned through the training process. While both of these methods can work well alone, Wide & Deep models excel by combining these techniques together. "
   ]
  },
  {
   "cell_type": "markdown",
   "metadata": {},
   "source": [
    "Start by importing the necessary libraries for this lab."
   ]
  },
  {
   "cell_type": "code",
   "execution_count": 1,
   "metadata": {},
   "outputs": [
    {
     "name": "stdout",
     "output_type": "stream",
     "text": [
      "2.0.0\n"
     ]
    }
   ],
   "source": [
    "# Importing necessary modules/libraries such as numpy, pandas and datetime.\n",
    "import datetime\n",
    "import os\n",
    "import shutil\n",
    "\n",
    "import numpy as np\n",
    "import pandas as pd\n",
    "import tensorflow as tf\n",
    "\n",
    "from matplotlib import pyplot as plt\n",
    "from tensorflow import keras\n",
    "\n",
    "from tensorflow import feature_column as fc\n",
    "\n",
    "from tensorflow.keras import Model\n",
    "from tensorflow.keras.layers import (\n",
    "    Input, Dense, DenseFeatures, concatenate)\n",
    "from tensorflow.keras.callbacks import TensorBoard\n",
    "\n",
    "print(tf.__version__)"
   ]
  },
  {
   "cell_type": "code",
   "execution_count": 2,
   "metadata": {},
   "outputs": [],
   "source": [
    "# It sets the backend of matplotlib to the 'inline' backend. The output of plotting commands is displayed inline within frontends, directly\n",
    "# below the code cell that produced it. The resulting plots will then also be stored in the notebook document.\n",
    "%matplotlib inline"
   ]
  },
  {
   "cell_type": "markdown",
   "metadata": {},
   "source": [
    "## Load raw data \n",
    "\n",
    "We will use the taxifare dataset, using the CSV files that we created in the first notebook of this sequence."
   ]
  },
  {
   "cell_type": "markdown",
   "metadata": {},
   "source": [
    "## Use tf.data to read the CSV files\n",
    "\n",
    "We wrote these functions for reading data from the csv files above in the [previous notebook](2_dataset_api.ipynb). For this lab we will also include some additional engineered features in our model. In particular, we will compute the difference in latitude and longitude, as well as the Euclidean distance between the pick-up and drop-off locations. We can accomplish this by adding these new features to the features dictionary with the function `add_engineered_features` below. \n",
    "\n",
    "Note that we include a call to this function when collecting our features dict and labels in the `features_and_labels` function below as well. "
   ]
  },
  {
   "cell_type": "code",
   "execution_count": 3,
   "metadata": {},
   "outputs": [],
   "source": [
    "# Selecting specific CSV_COLUMNS, LABEL_COLUMN, DEFAULTS, UNWANTED_COLS.\n",
    "CSV_COLUMNS = [\n",
    "    'fare_amount',\n",
    "    'pickup_datetime',\n",
    "    'pickup_longitude',\n",
    "    'pickup_latitude',\n",
    "    'dropoff_longitude',\n",
    "    'dropoff_latitude',\n",
    "    'passenger_count',\n",
    "    'key'\n",
    "]\n",
    "LABEL_COLUMN = 'fare_amount'\n",
    "DEFAULTS = [[0.0], ['na'], [0.0], [0.0], [0.0], [0.0], [0.0], ['na']]\n",
    "UNWANTED_COLS = ['pickup_datetime', 'key']\n",
    "\n",
    "\n",
    "# Create an input function reading a file using the Dataset API\n",
    "def features_and_labels(row_data):\n",
    "    label = row_data.pop(LABEL_COLUMN)\n",
    "    features = row_data\n",
    "        \n",
    "    for unwanted_col in UNWANTED_COLS:\n",
    "        features.pop(unwanted_col)\n",
    "\n",
    "    return features, label\n",
    "\n",
    "\n",
    "# Reading CSV files into a dataset.\n",
    "def create_dataset(pattern, batch_size=1, mode='eval'):\n",
    "    dataset = tf.data.experimental.make_csv_dataset(\n",
    "        pattern, batch_size, CSV_COLUMNS, DEFAULTS)\n",
    "\n",
    "    dataset = dataset.map(features_and_labels)\n",
    "    \n",
    "    if mode == 'train':\n",
    "        dataset = dataset.shuffle(buffer_size=1000).repeat()\n",
    "\n",
    "    # take advantage of multi-threading; 1=AUTOTUNE\n",
    "    dataset = dataset.prefetch(1)\n",
    "    return dataset"
   ]
  },
  {
   "cell_type": "markdown",
   "metadata": {},
   "source": [
    "## Feature columns for Wide and Deep model\n",
    "\n",
    "For the Wide columns, we will create feature columns of crossed features. To do this, we'll create a collection of Tensorflow feature columns to pass to the `tf.feature_column.crossed_column` constructor. The Deep columns will consist of numeric columns and the embedding columns we want to create. "
   ]
  },
  {
   "cell_type": "code",
   "execution_count": 4,
   "metadata": {},
   "outputs": [],
   "source": [
    "# TODO 1\n",
    "\n",
    "# 1. Bucketize latitudes and longitudes\n",
    "NBUCKETS = 16\n",
    "latbuckets = np.linspace(start=38.0, stop=42.0, num=NBUCKETS).tolist()\n",
    "lonbuckets = np.linspace(start=-76.0, stop=-72.0, num=NBUCKETS).tolist()\n",
    "\n",
    "fc_bucketized_plat = fc.bucketized_column(\n",
    "    source_column=fc.numeric_column(\"pickup_longitude\"), boundaries=lonbuckets)\n",
    "fc_bucketized_plon = fc.bucketized_column(\n",
    "    source_column=fc.numeric_column(\"pickup_latitude\"), boundaries=latbuckets)\n",
    "fc_bucketized_dlat = fc.bucketized_column(\n",
    "    source_column=fc.numeric_column(\"dropoff_longitude\"), boundaries=lonbuckets)\n",
    "fc_bucketized_dlon = fc.bucketized_column(\n",
    "    source_column=fc.numeric_column(\"dropoff_latitude\"), boundaries=latbuckets)\n",
    "\n",
    "# 2. Cross features for locations\n",
    "fc_crossed_dloc = fc.crossed_column(\n",
    "    [fc_bucketized_dlat, fc_bucketized_dlon],\n",
    "    hash_bucket_size=NBUCKETS * NBUCKETS)\n",
    "fc_crossed_ploc = fc.crossed_column(\n",
    "    [fc_bucketized_plat, fc_bucketized_plon],\n",
    "    hash_bucket_size=NBUCKETS * NBUCKETS)\n",
    "fc_crossed_pd_pair = fc.crossed_column(\n",
    "    [fc_crossed_dloc, fc_crossed_ploc],\n",
    "    hash_bucket_size=NBUCKETS**4)\n",
    "\n",
    "# 3. Create embedding columns for the crossed columns\n",
    "fc_pd_pair = fc.embedding_column(categorical_column=fc_crossed_pd_pair, dimension=3)\n",
    "fc_dloc = fc.embedding_column(categorical_column=fc_crossed_dloc, dimension=3)\n",
    "fc_ploc = fc.embedding_column(categorical_column=fc_crossed_ploc, dimension=3)"
   ]
  },
  {
   "cell_type": "markdown",
   "metadata": {},
   "source": [
    "### Gather list of feature columns\n",
    "\n",
    "Next we gather the list of wide and deep feature columns we'll pass to our Wide & Deep model in Tensorflow. Recall, wide columns are sparse, have linear relationship with the output while continuous columns are deep, have a complex relationship with the output. We will use our previously bucketized columns to collect crossed feature columns and sparse feature columns for our wide columns, and embedding feature columns and numeric features columns for the deep columns."
   ]
  },
  {
   "cell_type": "code",
   "execution_count": 5,
   "metadata": {},
   "outputs": [],
   "source": [
    "# TODO 2\n",
    "wide_columns = [\n",
    "    # One-hot encoded feature crosses\n",
    "    fc.indicator_column(fc_crossed_dloc),\n",
    "    fc.indicator_column(fc_crossed_ploc),\n",
    "    fc.indicator_column(fc_crossed_pd_pair)\n",
    "]\n",
    "\n",
    "deep_columns = [\n",
    "    # Embedding_column to \"group\" together ...\n",
    "    fc.embedding_column(fc_crossed_pd_pair, dimension=10),\n",
    "\n",
    "    # Numeric columns\n",
    "    fc.numeric_column(\"pickup_latitude\"),\n",
    "    fc.numeric_column(\"pickup_longitude\"),\n",
    "    fc.numeric_column(\"dropoff_longitude\"),\n",
    "    fc.numeric_column(\"dropoff_latitude\")\n",
    "]"
   ]
  },
  {
   "cell_type": "markdown",
   "metadata": {},
   "source": [
    "## Build a Wide and Deep model in Keras\n",
    "\n",
    "To build a wide-and-deep network, we connect the sparse (i.e. wide) features directly to the output node, but pass the dense (i.e. deep) features through a set of fully connected layers. Here’s that model architecture looks using the Functional API.\n",
    "\n",
    "First, we'll create our input columns using [tf.keras.layers.Input](https://www.tensorflow.org/versions/r2.0/api_docs/python/tf/keras/Input)."
   ]
  },
  {
   "cell_type": "code",
   "execution_count": 6,
   "metadata": {},
   "outputs": [],
   "source": [
    "INPUT_COLS = [\n",
    "    'pickup_longitude',\n",
    "    'pickup_latitude',\n",
    "    'dropoff_longitude',\n",
    "    'dropoff_latitude',\n",
    "    'passenger_count'\n",
    "]\n",
    "\n",
    "inputs = {colname : Input(name=colname, shape=(), dtype='float32')\n",
    "          for colname in INPUT_COLS\n",
    "}"
   ]
  },
  {
   "cell_type": "markdown",
   "metadata": {},
   "source": [
    "Then, we'll define our custom RMSE evaluation metric and build our wide and deep model."
   ]
  },
  {
   "cell_type": "code",
   "execution_count": 7,
   "metadata": {},
   "outputs": [],
   "source": [
    "# Here, tf.reduce_mean computes the mean of elements across dimensions of a tensor.\n",
    "# tf.sqrt Computes element-wise square root of the input tensor.\n",
    "# tf.square computes square of x element-wise.\n",
    "def rmse(y_true, y_pred):\n",
    "    return tf.sqrt(tf.reduce_mean(tf.square(y_pred - y_true)))\n",
    "\n",
    "# TODO 3\n",
    "def build_model(dnn_hidden_units):\n",
    "    # Create the deep part of model\n",
    "    deep = DenseFeatures(deep_columns, name='deep_inputs')(inputs)\n",
    "    for num_nodes in dnn_hidden_units:\n",
    "        deep = Dense(num_nodes, activation='relu')(deep) \n",
    "\n",
    "    # Create the wide part of model\n",
    "    wide = DenseFeatures(wide_columns, name='wide_inputs')(inputs)\n",
    "\n",
    "    # Combine deep and wide parts of the model\n",
    "    combined = concatenate(inputs=[deep, wide], name='combined')\n",
    "\n",
    "    # Map the combined outputs into a single prediction value\n",
    "    output = Dense(units=1, activation=None, name='prediction')(combined)\n",
    "    \n",
    "    # Finalize the model\n",
    "    model = Model(inputs=list(inputs.values()), outputs=output)\n",
    "\n",
    "    # Compile the keras model\n",
    "    model.compile(optimizer=\"adam\", loss=\"mse\", metrics=[rmse, \"mse\"])\n",
    "    \n",
    "    return model"
   ]
  },
  {
   "cell_type": "markdown",
   "metadata": {},
   "source": [
    "Next, we can call the `build_model` to create the model. Here we'll have two hidden layers, each with 10 neurons, for the deep part of our model. We can also use `plot_model` to see a diagram of the model we've created."
   ]
  },
  {
   "cell_type": "code",
   "execution_count": 8,
   "metadata": {},
   "outputs": [
    {
     "name": "stdout",
     "output_type": "stream",
     "text": [
      "WARNING:tensorflow:From /home/fahim/anaconda3/envs/myenv/lib/python3.6/site-packages/tensorflow_core/python/feature_column/feature_column_v2.py:4276: IndicatorColumn._variable_shape (from tensorflow.python.feature_column.feature_column_v2) is deprecated and will be removed in a future version.\n",
      "Instructions for updating:\n",
      "The old _FeatureColumn APIs are being deprecated. Please use the new FeatureColumn APIs instead.\n",
      "WARNING:tensorflow:From /home/fahim/anaconda3/envs/myenv/lib/python3.6/site-packages/tensorflow_core/python/feature_column/feature_column_v2.py:4331: CrossedColumn._num_buckets (from tensorflow.python.feature_column.feature_column_v2) is deprecated and will be removed in a future version.\n",
      "Instructions for updating:\n",
      "The old _FeatureColumn APIs are being deprecated. Please use the new FeatureColumn APIs instead.\n"
     ]
    },
    {
     "data": {
      "image/png": "[encoded data removed]",
      "text/plain": [
       "<IPython.core.display.Image object>"
      ]
     },
     "execution_count": 8,
     "metadata": {},
     "output_type": "execute_result"
    }
   ],
   "source": [
    "import pydot\n",
    "HIDDEN_UNITS = [10,10]\n",
    "\n",
    "# Calling the build model\n",
    "model = build_model(dnn_hidden_units=HIDDEN_UNITS)\n",
    "\n",
    "# Converts a Keras plot_model to see a diagram of the model that we have created.\n",
    "tf.keras.utils.plot_model(model, show_shapes=False, rankdir='LR')"
   ]
  },
  {
   "cell_type": "markdown",
   "metadata": {},
   "source": [
    "Next, we'll set up our training variables, create our datasets for training and validation, and train our model.\n",
    "\n",
    "(We refer you the the blog post [ML Design Pattern #3: Virtual Epochs](https://medium.com/google-cloud/ml-design-pattern-3-virtual-epochs-f842296de730) for further details on why express the training in terms of `NUM_TRAIN_EXAMPLES` and `NUM_EVALS` and why, in this training code, the number of epochs is really equal to the number of evaluations we perform.)"
   ]
  },
  {
   "cell_type": "code",
   "execution_count": 9,
   "metadata": {},
   "outputs": [
    {
     "name": "stdout",
     "output_type": "stream",
     "text": [
      "WARNING:tensorflow:From /home/fahim/anaconda3/envs/myenv/lib/python3.6/site-packages/tensorflow_core/python/data/experimental/ops/readers.py:521: parallel_interleave (from tensorflow.python.data.experimental.ops.interleave_ops) is deprecated and will be removed in a future version.\n",
      "Instructions for updating:\n",
      "Use `tf.data.Dataset.interleave(map_func, cycle_length, block_length, num_parallel_calls=tf.data.experimental.AUTOTUNE)` instead. If sloppy execution is desired, use `tf.data.Options.experimental_determinstic`.\n",
      "WARNING:tensorflow:From /home/fahim/anaconda3/envs/myenv/lib/python3.6/site-packages/tensorflow_core/python/data/experimental/ops/readers.py:215: shuffle_and_repeat (from tensorflow.python.data.experimental.ops.shuffle_ops) is deprecated and will be removed in a future version.\n",
      "Instructions for updating:\n",
      "Use `tf.data.Dataset.shuffle(buffer_size, seed)` followed by `tf.data.Dataset.repeat(count)`. Static tf.data optimizations will take care of using the fused implementation.\n"
     ]
    }
   ],
   "source": [
    "BATCH_SIZE = 1000\n",
    "NUM_TRAIN_EXAMPLES = 10000 * 5  # training dataset will repeat, wrap around\n",
    "NUM_EVALS = 50  # how many times to evaluate\n",
    "NUM_EVAL_EXAMPLES = 10000  # enough to get a reasonable sample\n",
    "\n",
    "trainds = create_dataset(\n",
    "    pattern='taxi-train*',\n",
    "    batch_size=BATCH_SIZE,\n",
    "    mode='train')\n",
    "\n",
    "evalds = create_dataset(\n",
    "    pattern='taxi-valid*',\n",
    "    batch_size=BATCH_SIZE,\n",
    "    mode='eval').take(NUM_EVAL_EXAMPLES//1000)"
   ]
  },
  {
   "cell_type": "code",
   "execution_count": 10,
   "metadata": {},
   "outputs": [
    {
     "name": "stdout",
     "output_type": "stream",
     "text": [
      "Train for 1 steps, validate for 10 steps\n",
      "Epoch 1/50\n",
      "1/1 [==============================] - 27s 27s/step - loss: 250.5324 - rmse: 15.8282 - mse: 250.5324 - val_loss: 249.9802 - val_rmse: 15.8001 - val_mse: 249.9803\n",
      "Epoch 2/50\n",
      "1/1 [==============================] - 7s 7s/step - loss: 279.7239 - rmse: 16.7249 - mse: 279.7239 - val_loss: 249.5952 - val_rmse: 15.7879 - val_mse: 249.5952\n",
      "Epoch 3/50\n",
      "1/1 [==============================] - 7s 7s/step - loss: 298.8277 - rmse: 17.2866 - mse: 298.8277 - val_loss: 249.1804 - val_rmse: 15.7747 - val_mse: 249.1804\n",
      "Epoch 4/50\n",
      "1/1 [==============================] - 7s 7s/step - loss: 222.0728 - rmse: 14.9021 - mse: 222.0728 - val_loss: 248.7300 - val_rmse: 15.7604 - val_mse: 248.7300\n",
      "Epoch 5/50\n",
      "1/1 [==============================] - 6s 6s/step - loss: 213.0359 - rmse: 14.5958 - mse: 213.0359 - val_loss: 248.2423 - val_rmse: 15.7449 - val_mse: 248.2423\n",
      "Epoch 6/50\n",
      "1/1 [==============================] - 6s 6s/step - loss: 193.9697 - rmse: 13.9273 - mse: 193.9697 - val_loss: 247.7164 - val_rmse: 15.7282 - val_mse: 247.7164\n",
      "Epoch 7/50\n",
      "1/1 [==============================] - 6s 6s/step - loss: 249.5134 - rmse: 15.7960 - mse: 249.5134 - val_loss: 247.1500 - val_rmse: 15.7102 - val_mse: 247.1500\n",
      "Epoch 8/50\n",
      "1/1 [==============================] - 6s 6s/step - loss: 195.6061 - rmse: 13.9859 - mse: 195.6061 - val_loss: 246.5418 - val_rmse: 15.6908 - val_mse: 246.5418\n",
      "Epoch 9/50\n",
      "1/1 [==============================] - 7s 7s/step - loss: 253.1120 - rmse: 15.9095 - mse: 253.1120 - val_loss: 245.8897 - val_rmse: 15.6700 - val_mse: 245.8897\n",
      "Epoch 10/50\n",
      "1/1 [==============================] - 9s 9s/step - loss: 225.8436 - rmse: 15.0281 - mse: 225.8436 - val_loss: 245.1917 - val_rmse: 15.6477 - val_mse: 245.1918\n",
      "Epoch 11/50\n",
      "1/1 [==============================] - 7s 7s/step - loss: 257.6750 - rmse: 16.0523 - mse: 257.6750 - val_loss: 244.4463 - val_rmse: 15.6238 - val_mse: 244.4463\n",
      "Epoch 12/50\n",
      "1/1 [==============================] - 6s 6s/step - loss: 218.0154 - rmse: 14.7653 - mse: 218.0154 - val_loss: 243.6524 - val_rmse: 15.5984 - val_mse: 243.6524\n",
      "Epoch 13/50\n",
      "1/1 [==============================] - 6s 6s/step - loss: 210.8220 - rmse: 14.5197 - mse: 210.8220 - val_loss: 242.8081 - val_rmse: 15.5712 - val_mse: 242.8081\n",
      "Epoch 14/50\n",
      "1/1 [==============================] - 7s 7s/step - loss: 231.8180 - rmse: 15.2256 - mse: 231.8180 - val_loss: 241.9121 - val_rmse: 15.5424 - val_mse: 241.9121\n",
      "Epoch 15/50\n",
      "1/1 [==============================] - 8s 8s/step - loss: 170.4759 - rmse: 13.0566 - mse: 170.4759 - val_loss: 240.9654 - val_rmse: 15.5119 - val_mse: 240.9654\n",
      "Epoch 16/50\n",
      "1/1 [==============================] - 7s 7s/step - loss: 221.8869 - rmse: 14.8959 - mse: 221.8869 - val_loss: 239.9648 - val_rmse: 15.4796 - val_mse: 239.9648\n",
      "Epoch 17/50\n",
      "1/1 [==============================] - 6s 6s/step - loss: 233.8321 - rmse: 15.2916 - mse: 233.8321 - val_loss: 238.9090 - val_rmse: 15.4454 - val_mse: 238.9090\n",
      "Epoch 18/50\n",
      "1/1 [==============================] - 7s 7s/step - loss: 210.0571 - rmse: 14.4933 - mse: 210.0571 - val_loss: 237.7972 - val_rmse: 15.4094 - val_mse: 237.7972\n",
      "Epoch 19/50\n",
      "1/1 [==============================] - 7s 7s/step - loss: 179.8653 - rmse: 13.4114 - mse: 179.8653 - val_loss: 236.6307 - val_rmse: 15.3714 - val_mse: 236.6308\n",
      "Epoch 20/50\n",
      "1/1 [==============================] - 6s 6s/step - loss: 194.6397 - rmse: 13.9513 - mse: 194.6397 - val_loss: 235.4087 - val_rmse: 15.3316 - val_mse: 235.4087\n",
      "Epoch 21/50\n",
      "1/1 [==============================] - 6s 6s/step - loss: 201.9386 - rmse: 14.2105 - mse: 201.9386 - val_loss: 234.1280 - val_rmse: 15.2897 - val_mse: 234.1280\n",
      "Epoch 22/50\n",
      "1/1 [==============================] - 6s 6s/step - loss: 199.2486 - rmse: 14.1155 - mse: 199.2486 - val_loss: 232.7881 - val_rmse: 15.2458 - val_mse: 232.7881\n",
      "Epoch 23/50\n",
      "1/1 [==============================] - 7s 7s/step - loss: 203.2782 - rmse: 14.2576 - mse: 203.2782 - val_loss: 231.3876 - val_rmse: 15.1998 - val_mse: 231.3876\n",
      "Epoch 24/50\n",
      "1/1 [==============================] - 8s 8s/step - loss: 195.6814 - rmse: 13.9886 - mse: 195.6814 - val_loss: 229.9273 - val_rmse: 15.1516 - val_mse: 229.9274\n",
      "Epoch 25/50\n",
      "1/1 [==============================] - 6s 6s/step - loss: 198.1609 - rmse: 14.0770 - mse: 198.1609 - val_loss: 228.4072 - val_rmse: 15.1013 - val_mse: 228.4072\n",
      "Epoch 26/50\n",
      "1/1 [==============================] - 7s 7s/step - loss: 237.5681 - rmse: 15.4132 - mse: 237.5681 - val_loss: 226.8246 - val_rmse: 15.0488 - val_mse: 226.8246\n",
      "Epoch 27/50\n",
      "1/1 [==============================] - 7s 7s/step - loss: 173.0329 - rmse: 13.1542 - mse: 173.0329 - val_loss: 225.1866 - val_rmse: 14.9942 - val_mse: 225.1866\n",
      "Epoch 28/50\n",
      "1/1 [==============================] - 7s 7s/step - loss: 192.0712 - rmse: 13.8590 - mse: 192.0712 - val_loss: 223.4890 - val_rmse: 14.9374 - val_mse: 223.4890\n",
      "Epoch 29/50\n",
      "1/1 [==============================] - 6s 6s/step - loss: 241.2636 - rmse: 15.5327 - mse: 241.2636 - val_loss: 221.7266 - val_rmse: 14.8782 - val_mse: 221.7266\n",
      "Epoch 30/50\n",
      "1/1 [==============================] - 6s 6s/step - loss: 245.5148 - rmse: 15.6689 - mse: 245.5148 - val_loss: 219.9010 - val_rmse: 14.8167 - val_mse: 219.9010\n",
      "Epoch 31/50\n",
      "1/1 [==============================] - 6s 6s/step - loss: 211.5790 - rmse: 14.5458 - mse: 211.5790 - val_loss: 218.0177 - val_rmse: 14.7529 - val_mse: 218.0177\n",
      "Epoch 32/50\n",
      "1/1 [==============================] - 7s 7s/step - loss: 212.6581 - rmse: 14.5828 - mse: 212.6581 - val_loss: 216.0780 - val_rmse: 14.6870 - val_mse: 216.0780\n",
      "Epoch 33/50\n",
      "1/1 [==============================] - 6s 6s/step - loss: 182.8743 - rmse: 13.5231 - mse: 182.8743 - val_loss: 214.0849 - val_rmse: 14.6189 - val_mse: 214.0849\n",
      "Epoch 34/50\n",
      "1/1 [==============================] - 6s 6s/step - loss: 182.9761 - rmse: 13.5269 - mse: 182.9761 - val_loss: 212.0378 - val_rmse: 14.5486 - val_mse: 212.0378\n",
      "Epoch 35/50\n",
      "1/1 [==============================] - 6s 6s/step - loss: 191.8487 - rmse: 13.8509 - mse: 191.8487 - val_loss: 209.9396 - val_rmse: 14.4763 - val_mse: 209.9396\n",
      "Epoch 36/50\n",
      "1/1 [==============================] - 6s 6s/step - loss: 154.3723 - rmse: 12.4247 - mse: 154.3723 - val_loss: 207.7964 - val_rmse: 14.4020 - val_mse: 207.7964\n",
      "Epoch 37/50\n",
      "1/1 [==============================] - 6s 6s/step - loss: 182.1507 - rmse: 13.4963 - mse: 182.1507 - val_loss: 205.6062 - val_rmse: 14.3256 - val_mse: 205.6062\n",
      "Epoch 38/50\n",
      "1/1 [==============================] - 6s 6s/step - loss: 179.0648 - rmse: 13.3815 - mse: 179.0648 - val_loss: 203.3749 - val_rmse: 14.2474 - val_mse: 203.3749\n",
      "Epoch 39/50\n",
      "1/1 [==============================] - 6s 6s/step - loss: 180.9607 - rmse: 13.4522 - mse: 180.9607 - val_loss: 201.0947 - val_rmse: 14.1671 - val_mse: 201.0947\n",
      "Epoch 40/50\n",
      "1/1 [==============================] - 6s 6s/step - loss: 168.7852 - rmse: 12.9917 - mse: 168.7852 - val_loss: 198.7731 - val_rmse: 14.0848 - val_mse: 198.7731\n",
      "Epoch 41/50\n",
      "1/1 [==============================] - 6s 6s/step - loss: 171.0966 - rmse: 13.0804 - mse: 171.0966 - val_loss: 196.4132 - val_rmse: 14.0007 - val_mse: 196.4132\n",
      "Epoch 42/50\n",
      "1/1 [==============================] - 7s 7s/step - loss: 182.4574 - rmse: 13.5077 - mse: 182.4574 - val_loss: 194.0113 - val_rmse: 13.9145 - val_mse: 194.0112\n",
      "Epoch 43/50\n",
      "1/1 [==============================] - 7s 7s/step - loss: 170.2755 - rmse: 13.0490 - mse: 170.2755 - val_loss: 191.5724 - val_rmse: 13.8265 - val_mse: 191.5724\n",
      "Epoch 44/50\n",
      "1/1 [==============================] - 7s 7s/step - loss: 155.1694 - rmse: 12.4567 - mse: 155.1694 - val_loss: 189.1057 - val_rmse: 13.7369 - val_mse: 189.1057\n",
      "Epoch 45/50\n",
      "1/1 [==============================] - 6s 6s/step - loss: 168.3653 - rmse: 12.9756 - mse: 168.3653 - val_loss: 186.6085 - val_rmse: 13.6456 - val_mse: 186.6085\n",
      "Epoch 46/50\n",
      "1/1 [==============================] - 6s 6s/step - loss: 136.8763 - rmse: 11.6994 - mse: 136.8763 - val_loss: 184.0967 - val_rmse: 13.5531 - val_mse: 184.0967\n",
      "Epoch 47/50\n",
      "1/1 [==============================] - 7s 7s/step - loss: 154.4060 - rmse: 12.4260 - mse: 154.4060 - val_loss: 181.5668 - val_rmse: 13.4593 - val_mse: 181.5668\n",
      "Epoch 48/50\n",
      "1/1 [==============================] - 7s 7s/step - loss: 181.0124 - rmse: 13.4541 - mse: 181.0124 - val_loss: 179.0062 - val_rmse: 13.3637 - val_mse: 179.0062\n"
     ]
    },
    {
     "name": "stdout",
     "output_type": "stream",
     "text": [
      "Epoch 49/50\n",
      "1/1 [==============================] - 6s 6s/step - loss: 195.3101 - rmse: 13.9753 - mse: 195.3101 - val_loss: 176.4267 - val_rmse: 13.2667 - val_mse: 176.4267\n",
      "Epoch 50/50\n",
      "1/1 [==============================] - 7s 7s/step - loss: 198.4614 - rmse: 14.0876 - mse: 198.4614 - val_loss: 173.8368 - val_rmse: 13.1686 - val_mse: 173.8368\n",
      "CPU times: user 13min 10s, sys: 3min 23s, total: 16min 34s\n",
      "Wall time: 5min 48s\n"
     ]
    }
   ],
   "source": [
    "%%time\n",
    "# Here, %%time prints the wall time for the entire cell\n",
    "steps_per_epoch = NUM_TRAIN_EXAMPLES // (BATCH_SIZE * NUM_EVALS)\n",
    "\n",
    "OUTDIR = \"./taxi_trained\"\n",
    "shutil.rmtree(path=OUTDIR, ignore_errors=True) # start fresh each time\n",
    "\n",
    "history = model.fit(x=trainds,\n",
    "                    steps_per_epoch=steps_per_epoch,\n",
    "                    epochs=NUM_EVALS,\n",
    "                    validation_data=evalds,\n",
    "                    callbacks=[TensorBoard(OUTDIR)])"
   ]
  },
  {
   "cell_type": "markdown",
   "metadata": {},
   "source": [
    "Just as before, we can examine the history to see how the RMSE changes through training on the train set and validation set. "
   ]
  },
  {
   "cell_type": "code",
   "execution_count": 11,
   "metadata": {},
   "outputs": [
    {
     "data": {
      "text/plain": [
       "<matplotlib.axes._subplots.AxesSubplot at 0x7f0c5febda58>"
      ]
     },
     "execution_count": 11,
     "metadata": {},
     "output_type": "execute_result"
    },
    {
     "data": {
      "image/png": "[encoded data removed]",
      "text/plain": [
       "<Figure size 432x288 with 1 Axes>"
      ]
     },
     "metadata": {
      "needs_background": "light"
     },
     "output_type": "display_data"
    }
   ],
   "source": [
    "RMSE_COLS = ['rmse', 'val_rmse']\n",
    "\n",
    "# Pandas DataFrame is two-dimensional size-mutable, potentially heterogeneous tabular data structure with labeled axes (rows and columns).\n",
    "pd.DataFrame(history.history)[RMSE_COLS].plot()"
   ]
  }
 ],
 "metadata": {
  "kernelspec": {
   "display_name": "myenv",
   "language": "python",
   "name": "myenv"
  },
  "language_info": {
   "codemirror_mode": {
    "name": "ipython",
    "version": 3
   },
   "file_extension": ".py",
   "mimetype": "text/x-python",
   "name": "python",
   "nbconvert_exporter": "python",
   "pygments_lexer": "ipython3",
   "version": "3.6.12"
  }
 },
 "nbformat": 4,
 "nbformat_minor": 4
}
