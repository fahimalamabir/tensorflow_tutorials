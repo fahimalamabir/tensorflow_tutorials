{
 "cells": [
  {
   "cell_type": "markdown",
   "metadata": {},
   "source": [
    "# Popular types of activation functions and when to use them\n",
    "\n",
    "#### 1. Binary Step Function\n",
    "The first thing that comes to our mind when we have an activation function would be a threshold based classifier i.e. whether or not the neuron should be activated based on the value from the linear transformation.\n",
    "\n",
    "In other words, if the input to the activation function is greater than a threshold, then the neuron is activated, else it is deactivated, i.e. its output is not considered for the next hidden layer. Let us look at it mathematically"
   ]
  },
  {
   "cell_type": "code",
   "execution_count": 16,
   "metadata": {},
   "outputs": [],
   "source": [
    "def binary_step(x):\n",
    "    if x<0:\n",
    "        return 0\n",
    "    else:\n",
    "        return 1"
   ]
  },
  {
   "cell_type": "code",
   "execution_count": 17,
   "metadata": {},
   "outputs": [
    {
     "data": {
      "text/plain": [
       "(1, 0)"
      ]
     },
     "execution_count": 17,
     "metadata": {},
     "output_type": "execute_result"
    }
   ],
   "source": [
    "binary_step(5), binary_step(-1)"
   ]
  },
  {
   "cell_type": "markdown",
   "metadata": {},
   "source": [
    "The binary step function can be used as an activation function while creating a binary classifier.  As you can imagine, this function will not be useful when there are multiple classes in the target variable. That is one of the limitations of binary step function.\n",
    "\n",
    "Moreover, the gradient of the step function is zero which causes a hindrance in the back propagation process. That is, if you calculate the derivative of f(x) with respect to x, it comes out to be 0.\n",
    "\n",
    "\n",
    "#### 2. Linear Function\n",
    "We saw the problem with the step function, the gradient of the function became zero. This is because there is no component of x in the binary step function. Instead of a binary function, we can use a linear function. "
   ]
  },
  {
   "cell_type": "code",
   "execution_count": 18,
   "metadata": {},
   "outputs": [],
   "source": [
    "def linear_function(a,x):\n",
    "    return a*x"
   ]
  },
  {
   "cell_type": "code",
   "execution_count": 19,
   "metadata": {},
   "outputs": [
    {
     "data": {
      "text/plain": [
       "(8, -4)"
      ]
     },
     "execution_count": 19,
     "metadata": {},
     "output_type": "execute_result"
    }
   ],
   "source": [
    "linear_function(2,4), linear_function(2,-2)"
   ]
  },
  {
   "cell_type": "markdown",
   "metadata": {},
   "source": [
    "#### 3. Sigmoid\n",
    "The next activation function that we are going to look at is the Sigmoid function. It is one of the most widely used non-linear activation function. Sigmoid transforms the values between the range 0 and 1. Here is the mathematical expression for sigmoid-\n",
    "\n",
    "<code>f(x) = 1/(1+e^-x) </code>\n",
    "\n",
    "A noteworthy point here is that unlike the binary step and linear functions, sigmoid is a non-linear function. This essentially means -when I have multiple neurons having sigmoid function as their activation function,the output is non linear as well. "
   ]
  },
  {
   "cell_type": "code",
   "execution_count": 20,
   "metadata": {},
   "outputs": [],
   "source": [
    "import numpy as np\n",
    "def sigmoid_function(x):\n",
    "    z = (1/(1 + np.exp(-x)))\n",
    "    return z"
   ]
  },
  {
   "cell_type": "code",
   "execution_count": 21,
   "metadata": {},
   "outputs": [
    {
     "data": {
      "text/plain": [
       "(0.9990889488055994, 2.7894680920908113e-10)"
      ]
     },
     "execution_count": 21,
     "metadata": {},
     "output_type": "execute_result"
    }
   ],
   "source": [
    "sigmoid_function(7),sigmoid_function(-22)"
   ]
  },
  {
   "cell_type": "markdown",
   "metadata": {},
   "source": [
    "#### 4. Tanh\n",
    "The tanh function is very similar to the sigmoid function. The only difference is that it is symmetric around the origin. The range of values in this case is from -1 to 1. Thus the inputs to the next layers will not always be of the same sign. The tanh function is defined as-\n",
    "\n",
    "<code>tanh(x)=2sigmoid(2x)-1</code>"
   ]
  },
  {
   "cell_type": "code",
   "execution_count": 22,
   "metadata": {},
   "outputs": [],
   "source": [
    "def tanh_function(x):\n",
    "    z = (2/(1 + np.exp(-2*x))) -1\n",
    "    return z"
   ]
  },
  {
   "cell_type": "code",
   "execution_count": 23,
   "metadata": {},
   "outputs": [
    {
     "data": {
      "text/plain": [
       "(0.4621171572600098, -0.7615941559557649)"
      ]
     },
     "execution_count": 23,
     "metadata": {},
     "output_type": "execute_result"
    }
   ],
   "source": [
    "tanh_function(0.5), tanh_function(-1)"
   ]
  },
  {
   "cell_type": "markdown",
   "metadata": {},
   "source": [
    "#### 5. ReLU\n",
    "The ReLU function is another non-linear activation function that has gained popularity in the deep learning domain. ReLU stands for Rectified Linear Unit. The main advantage of using the ReLU function over other activation functions is that it does not activate all the neurons at the same time.\n",
    "\n",
    "This means that the neurons will only be deactivated if the output of the linear transformation is less than 0. \n",
    "\n",
    "For the negative input values, the result is zero, that means the neuron does not get activated. Since only a certain number of neurons are activated, the ReLU function is far more computationally efficient when compared to the sigmoid and tanh function."
   ]
  },
  {
   "cell_type": "code",
   "execution_count": 24,
   "metadata": {},
   "outputs": [],
   "source": [
    "def relu_function(x):\n",
    "    if x<0:\n",
    "        return 0\n",
    "    else:\n",
    "        return x"
   ]
  },
  {
   "cell_type": "code",
   "execution_count": 25,
   "metadata": {},
   "outputs": [
    {
     "data": {
      "text/plain": [
       "(7, 0)"
      ]
     },
     "execution_count": 25,
     "metadata": {},
     "output_type": "execute_result"
    }
   ],
   "source": [
    "relu_function(7), relu_function(-7)"
   ]
  },
  {
   "cell_type": "markdown",
   "metadata": {},
   "source": [
    "#### 6. Leaky ReLU\n",
    "Leaky ReLU function is nothing but an improved version of the ReLU function. As we saw that for the ReLU function, the gradient is 0 for x<0, which would deactivate the neurons in that region."
   ]
  },
  {
   "cell_type": "code",
   "execution_count": 26,
   "metadata": {},
   "outputs": [],
   "source": [
    "def leaky_relu_function(x):\n",
    "    if x<0:\n",
    "        return 0.01*x\n",
    "    else:\n",
    "        return x"
   ]
  },
  {
   "cell_type": "code",
   "execution_count": 27,
   "metadata": {},
   "outputs": [
    {
     "data": {
      "text/plain": [
       "(7, -0.07)"
      ]
     },
     "execution_count": 27,
     "metadata": {},
     "output_type": "execute_result"
    }
   ],
   "source": [
    "leaky_relu_function(7), leaky_relu_function(-7)"
   ]
  },
  {
   "cell_type": "markdown",
   "metadata": {},
   "source": [
    "# Introducing the Keras Sequential API\n",
    "\n",
    "**Learning Objectives**\n",
    "  1. Build a DNN model using the Keras Sequential API\n",
    "  1. Learn how to use feature columns in a Keras model\n",
    "  1. Learn how to train a model with Keras\n",
    "  1. Learn how to save/load, and deploy a Keras model on GCP\n",
    "  1. Learn how to deploy and make predictions with at Keras model\n",
    "\n",
    "## Introduction\n",
    "\n",
    "The [Keras sequential API](https://keras.io/models/sequential/) allows you to create Tensorflow models layer-by-layer. This is useful for building most kinds of machine learning models but it does not allow you to create models that share layers, re-use layers or have multiple inputs or outputs. \n",
    "\n",
    "In this lab, we'll see how to build a simple deep neural network model using the Keras sequential api and feature columns. Once we have trained our model, we will deploy it using AI Platform and see how to call our model for online prediciton.\n"
   ]
  },
  {
   "cell_type": "code",
   "execution_count": 28,
   "metadata": {},
   "outputs": [
    {
     "name": "stdout",
     "output_type": "stream",
     "text": [
      "2.3.1\n"
     ]
    }
   ],
   "source": [
    "# The datetime module used to work with dates as date objects.\n",
    "import datetime\n",
    "# The OS module in python provides functions for interacting with the operating system.\n",
    "import os\n",
    "# The shutil module in Python provides many functions of high-level operations on files and collections of files.\n",
    "# This module helps in automating process of copying and removal of files and directories.\n",
    "import shutil\n",
    "\n",
    "# Here we'll import data processing libraries like Numpy, Pandas and Tensorflow\n",
    "import numpy as np\n",
    "import pandas as pd\n",
    "import tensorflow as tf\n",
    "\n",
    "# Import pyplot package from matplotlib library\n",
    "from matplotlib import pyplot as plt\n",
    "# Import keras package from tensorflow library\n",
    "from tensorflow import keras\n",
    "\n",
    "# Import Sequential function from tensorflow.keras.models\n",
    "from tensorflow.keras.models import Sequential\n",
    "# Import Dense, DenseFeatures function from tensorflow.keras.layers\n",
    "from tensorflow.keras.layers import Dense, DenseFeatures\n",
    "# Import TensorBoard function from tensorflow.keras.callbacks\n",
    "from tensorflow.keras.callbacks import TensorBoard\n",
    "\n",
    "# Here we'll show the currently installed version of TensorFlow\n",
    "print(tf.__version__)\n",
    "%matplotlib inline"
   ]
  },
  {
   "cell_type": "markdown",
   "metadata": {},
   "source": [
    "## Load raw data \n",
    "\n",
    "We will use the taxifare dataset, using the CSV files that we created in the first notebook of this sequence. Those files have been saved into `../data`."
   ]
  },
  {
   "cell_type": "code",
   "execution_count": 29,
   "metadata": {},
   "outputs": [
    {
     "name": "stdout",
     "output_type": "stream",
     "text": [
      "ls: cannot access '../data/*.csv': No such file or directory\r\n"
     ]
    }
   ],
   "source": [
    "# ls shows the working directory's contents.\n",
    "# Using -l parameter will lists the files with assigned permissions\n",
    "!ls -l ../data/*.csv"
   ]
  },
  {
   "cell_type": "code",
   "execution_count": 30,
   "metadata": {},
   "outputs": [
    {
     "name": "stdout",
     "output_type": "stream",
     "text": [
      "head: cannot open '../data/taxi*.csv' for reading: No such file or directory\r\n"
     ]
    }
   ],
   "source": [
    "# Output the first ten rows from the file where name having prefix `taxi`.\n",
    "!head ../data/taxi*.csv"
   ]
  },
  {
   "cell_type": "markdown",
   "metadata": {},
   "source": [
    "## Use tf.data to read the CSV files\n",
    "\n",
    "We wrote these functions for reading data from the csv files above in the [previous notebook](https://github.com/GoogleCloudPlatform/training-data-analyst/blob/master/courses/machine_learning/deepdive2/introduction_to_tensorflow/labs/2_dataset_api.ipynb)."
   ]
  },
  {
   "cell_type": "code",
   "execution_count": 31,
   "metadata": {},
   "outputs": [],
   "source": [
    "# Defining the feature names into a list `CSV_COLUMNS`\n",
    "CSV_COLUMNS = [\n",
    "    'fare_amount',\n",
    "    'pickup_datetime',\n",
    "    'pickup_longitude',\n",
    "    'pickup_latitude',\n",
    "    'dropoff_longitude',\n",
    "    'dropoff_latitude',\n",
    "    'passenger_count',\n",
    "    'key'\n",
    "]\n",
    "LABEL_COLUMN = 'fare_amount'\n",
    "# Defining the default values into a list `DEFAULTS`\n",
    "DEFAULTS = [[0.0], ['na'], [0.0], [0.0], [0.0], [0.0], [0.0], ['na']]\n",
    "UNWANTED_COLS = ['pickup_datetime', 'key']\n",
    "\n",
    "\n",
    "def features_and_labels(row_data):\n",
    "# The .pop() method will return item and drop from frame. \n",
    "    label = row_data.pop(LABEL_COLUMN)\n",
    "    features = row_data\n",
    "    \n",
    "    for unwanted_col in UNWANTED_COLS:\n",
    "        features.pop(unwanted_col)\n",
    "\n",
    "    return features, label\n",
    "\n",
    "\n",
    "def create_dataset(pattern, batch_size=1, mode='eval'):\n",
    "# The tf.data.experimental.make_csv_dataset() method reads CSV files into a dataset\n",
    "    dataset = tf.data.experimental.make_csv_dataset(\n",
    "        pattern, batch_size, CSV_COLUMNS, DEFAULTS)\n",
    "\n",
    "# The map() function executes a specified function for each item in an iterable.\n",
    "# The item is sent to the function as a parameter.\n",
    "    dataset = dataset.map(features_and_labels)\n",
    "\n",
    "    if mode == 'train':\n",
    "# The shuffle() method takes a sequence (list, string, or tuple) and reorganize the order of the items.\n",
    "        dataset = dataset.shuffle(buffer_size=1000).repeat()\n",
    "\n",
    "    # take advantage of multi-threading; 1=AUTOTUNE\n",
    "    dataset = dataset.prefetch(1)\n",
    "    return dataset"
   ]
  },
  {
   "cell_type": "markdown",
   "metadata": {},
   "source": [
    "## Build a simple keras DNN model\n",
    "\n",
    "We will use feature columns to connect our raw data to our keras DNN model. Feature columns make it easy to perform common types of feature engineering on your raw data. For example, you can one-hot encode categorical data, create feature crosses, embeddings and more. We'll cover these in more detail later in the course, but if you want to a sneak peak browse the official TensorFlow [feature columns guide](https://www.tensorflow.org/guide/feature_columns).\n",
    "\n",
    "In our case we won't do any feature engineering. However, we still need to create a list of feature columns to specify the numeric values which will be passed on to our model. To do this, we use `tf.feature_column.numeric_column()`\n",
    "\n",
    "We use a python dictionary comprehension to create the feature columns for our model, which is just an elegant alternative to a for loop."
   ]
  },
  {
   "cell_type": "code",
   "execution_count": 32,
   "metadata": {},
   "outputs": [],
   "source": [
    "# Defining the feature names into a list `INPUT_COLS`\n",
    "INPUT_COLS = [\n",
    "    'pickup_longitude',\n",
    "    'pickup_latitude',\n",
    "    'dropoff_longitude',\n",
    "    'dropoff_latitude',\n",
    "    'passenger_count',\n",
    "]\n",
    "\n",
    "# Create input layer of feature columns\n",
    "# TODO 1\n",
    "feature_columns = {\n",
    "    colname: tf.feature_column.numeric_column(colname)\n",
    "    for colname in INPUT_COLS\n",
    "    }"
   ]
  },
  {
   "cell_type": "markdown",
   "metadata": {},
   "source": [
    "Next, we create the DNN model. The Sequential model is a linear stack of layers and when building a model using the Sequential API, you configure each layer of the model in turn. Once all the layers have been added, you compile the model. "
   ]
  },
  {
   "cell_type": "code",
   "execution_count": 33,
   "metadata": {},
   "outputs": [],
   "source": [
    "# Build a keras DNN model using Sequential API\n",
    "# TODO 2a\n",
    "model = Sequential([\n",
    "    DenseFeatures(feature_columns=feature_columns.values()),\n",
    "    Dense(units=32, activation=\"relu\", name=\"h1\"),\n",
    "    Dense(units=8, activation=\"relu\", name=\"h2\"),\n",
    "    Dense(units=1, activation=\"linear\", name=\"output\")\n",
    "    ])"
   ]
  },
  {
   "cell_type": "markdown",
   "metadata": {},
   "source": [
    "Next, to prepare the model for training, you must configure the learning process. This is done using the compile method. The compile method takes three arguments:\n",
    "\n",
    "* An optimizer. This could be the string identifier of an existing optimizer (such as `rmsprop` or `adagrad`), or an instance of the [Optimizer class](https://www.tensorflow.org/versions/r2.0/api_docs/python/tf/keras/optimizers).\n",
    "* A loss function. This is the objective that the model will try to minimize. It can be the string identifier of an existing loss function from the [Losses class](https://www.tensorflow.org/versions/r2.0/api_docs/python/tf/keras/losses) (such as categorical_crossentropy or mse), or it can be a custom objective function.\n",
    "* A list of metrics. For any machine learning problem you will want a set of metrics to evaluate your model. A metric could be the string identifier of an existing metric or a custom metric function.\n",
    "\n",
    "We will add an additional custom metric called `rmse` to our list of metrics which will return the root mean square error. "
   ]
  },
  {
   "cell_type": "code",
   "execution_count": 34,
   "metadata": {},
   "outputs": [],
   "source": [
    "# TODO 2b\n",
    "# Create a custom evalution metric\n",
    "def rmse(y_true, y_pred):\n",
    "    return tf.sqrt(tf.reduce_mean(tf.square(y_pred - y_true)))\n",
    "\n",
    "\n",
    "# Compile the keras model\n",
    "model.compile(optimizer=\"adam\", loss=\"mse\", metrics=[rmse, \"mse\"])"
   ]
  },
  {
   "cell_type": "markdown",
   "metadata": {},
   "source": [
    "## Train the model\n",
    "\n",
    "To train your model, Keras provides three functions that can be used:\n",
    " 1. `.fit()` for training a model for a fixed number of epochs (iterations on a dataset).\n",
    " 2. `.fit_generator()` for training a model on data yielded batch-by-batch by a generator\n",
    " 3. `.train_on_batch()` runs a single gradient update on a single batch of data. \n",
    " \n",
    "The `.fit()` function works well for small datasets which can fit entirely in memory. However, for large datasets (or if you need to manipulate the training data on the fly via data augmentation, etc) you will need to use `.fit_generator()` instead. The `.train_on_batch()` method is for more fine-grained control over training and accepts only a single batch of data.\n",
    "\n",
    "The taxifare dataset we sampled is small enough to fit in memory, so can we could use `.fit` to train our model. Our `create_dataset` function above generates batches of training examples, so we could also use `.fit_generator`. In fact, when calling `.fit` the method inspects the data, and if it's a generator (as our dataset is) it will invoke automatically `.fit_generator` for training. \n",
    "\n",
    "We start by setting up some parameters for our training job and create the data generators for the training and validation data.\n",
    "\n",
    "We refer you the the blog post [ML Design Pattern #3: Virtual Epochs](https://medium.com/google-cloud/ml-design-pattern-3-virtual-epochs-f842296de730) for further details on why express the training in terms of `NUM_TRAIN_EXAMPLES` and `NUM_EVALS` and why, in this training code, the number of epochs is really equal to the number of evaluations we perform."
   ]
  },
  {
   "cell_type": "code",
   "execution_count": 36,
   "metadata": {},
   "outputs": [],
   "source": [
    "TRAIN_BATCH_SIZE = 1000\n",
    "NUM_TRAIN_EXAMPLES = 10000 * 5  # training dataset will repeat, wrap around\n",
    "NUM_EVALS = 50  # how many times to evaluate\n",
    "NUM_EVAL_EXAMPLES = 10000  # enough to get a reasonable sample\n",
    "\n",
    "trainds = create_dataset(\n",
    "    pattern='taxi-train*',\n",
    "    batch_size=TRAIN_BATCH_SIZE,\n",
    "    mode='train')\n",
    "\n",
    "evalds = create_dataset(\n",
    "    pattern='taxi-valid*',\n",
    "    batch_size=1000,\n",
    "    mode='eval').take(NUM_EVAL_EXAMPLES//1000)"
   ]
  },
  {
   "cell_type": "markdown",
   "metadata": {},
   "source": [
    "There are various arguments you can set when calling the [.fit method](https://www.tensorflow.org/versions/r2.0/api_docs/python/tf/keras/Model#fit). Here `x` specifies the input data which in our case is a `tf.data` dataset returning a tuple of (inputs, targets). The `steps_per_epoch` parameter is used to mark the end of training for a single epoch. Here we are training for NUM_EVALS epochs. Lastly, for the `callback` argument we specify a Tensorboard callback so we can inspect Tensorboard after training. "
   ]
  },
  {
   "cell_type": "code",
   "execution_count": 37,
   "metadata": {},
   "outputs": [
    {
     "name": "stdout",
     "output_type": "stream",
     "text": [
      "CPU times: user 5 µs, sys: 1 µs, total: 6 µs\n",
      "Wall time: 10.3 µs\n",
      "Epoch 1/50\n",
      "WARNING:tensorflow:Layers in a Sequential model should only have a single input tensor, but we receive a <class 'collections.OrderedDict'> input: OrderedDict([('pickup_longitude', <tf.Tensor 'ExpandDims_4:0' shape=(1000, 1) dtype=float32>), ('pickup_latitude', <tf.Tensor 'ExpandDims_3:0' shape=(1000, 1) dtype=float32>), ('dropoff_longitude', <tf.Tensor 'ExpandDims_1:0' shape=(1000, 1) dtype=float32>), ('dropoff_latitude', <tf.Tensor 'ExpandDims:0' shape=(1000, 1) dtype=float32>), ('passenger_count', <tf.Tensor 'ExpandDims_2:0' shape=(1000, 1) dtype=float32>)])\n",
      "Consider rewriting this model with the Functional API.\n",
      "WARNING:tensorflow:Layers in a Sequential model should only have a single input tensor, but we receive a <class 'collections.OrderedDict'> input: OrderedDict([('pickup_longitude', <tf.Tensor 'ExpandDims_4:0' shape=(1000, 1) dtype=float32>), ('pickup_latitude', <tf.Tensor 'ExpandDims_3:0' shape=(1000, 1) dtype=float32>), ('dropoff_longitude', <tf.Tensor 'ExpandDims_1:0' shape=(1000, 1) dtype=float32>), ('dropoff_latitude', <tf.Tensor 'ExpandDims:0' shape=(1000, 1) dtype=float32>), ('passenger_count', <tf.Tensor 'ExpandDims_2:0' shape=(1000, 1) dtype=float32>)])\n",
      "Consider rewriting this model with the Functional API.\n",
      "1/1 [==============================] - ETA: 0s - loss: 103.9853 - rmse: 10.1973 - mse: 103.9853WARNING:tensorflow:Layers in a Sequential model should only have a single input tensor, but we receive a <class 'collections.OrderedDict'> input: OrderedDict([('pickup_longitude', <tf.Tensor 'ExpandDims_4:0' shape=(1000, 1) dtype=float32>), ('pickup_latitude', <tf.Tensor 'ExpandDims_3:0' shape=(1000, 1) dtype=float32>), ('dropoff_longitude', <tf.Tensor 'ExpandDims_1:0' shape=(1000, 1) dtype=float32>), ('dropoff_latitude', <tf.Tensor 'ExpandDims:0' shape=(1000, 1) dtype=float32>), ('passenger_count', <tf.Tensor 'ExpandDims_2:0' shape=(1000, 1) dtype=float32>)])\n",
      "Consider rewriting this model with the Functional API.\n",
      "1/1 [==============================] - 1s 540ms/step - loss: 103.9853 - rmse: 10.1973 - mse: 103.9853 - val_loss: 119.8685 - val_rmse: 10.9285 - val_mse: 119.8685\n",
      "Epoch 2/50\n",
      "WARNING:tensorflow:From /home/fahim/anaconda3/lib/python3.8/site-packages/tensorflow/python/ops/summary_ops_v2.py:1277: stop (from tensorflow.python.eager.profiler) is deprecated and will be removed after 2020-07-01.\n",
      "Instructions for updating:\n",
      "use `tf.profiler.experimental.stop` instead.\n",
      "1/1 [==============================] - 0s 314ms/step - loss: 107.9977 - rmse: 10.3922 - mse: 107.9977 - val_loss: 110.4139 - val_rmse: 10.4932 - val_mse: 110.4139\n",
      "Epoch 3/50\n",
      "1/1 [==============================] - 0s 293ms/step - loss: 83.6706 - rmse: 9.1472 - mse: 83.6706 - val_loss: 109.4031 - val_rmse: 10.4494 - val_mse: 109.4031\n",
      "Epoch 4/50\n",
      "1/1 [==============================] - 0s 291ms/step - loss: 88.9902 - rmse: 9.4335 - mse: 88.9902 - val_loss: 111.7320 - val_rmse: 10.5644 - val_mse: 111.7320\n",
      "Epoch 5/50\n",
      "1/1 [==============================] - 0s 336ms/step - loss: 83.5064 - rmse: 9.1382 - mse: 83.5064 - val_loss: 114.8321 - val_rmse: 10.6967 - val_mse: 114.8321\n",
      "Epoch 6/50\n",
      "1/1 [==============================] - 0s 379ms/step - loss: 101.5117 - rmse: 10.0753 - mse: 101.5117 - val_loss: 115.1116 - val_rmse: 10.7230 - val_mse: 115.1116\n",
      "Epoch 7/50\n",
      "1/1 [==============================] - 0s 416ms/step - loss: 110.7279 - rmse: 10.5227 - mse: 110.7279 - val_loss: 113.9581 - val_rmse: 10.6618 - val_mse: 113.9581\n",
      "Epoch 8/50\n",
      "1/1 [==============================] - 0s 410ms/step - loss: 108.1805 - rmse: 10.4010 - mse: 108.1805 - val_loss: 110.7992 - val_rmse: 10.5025 - val_mse: 110.7992\n",
      "Epoch 9/50\n",
      "1/1 [==============================] - 0s 389ms/step - loss: 103.0869 - rmse: 10.1532 - mse: 103.0869 - val_loss: 110.9410 - val_rmse: 10.5230 - val_mse: 110.9410\n",
      "Epoch 10/50\n",
      "1/1 [==============================] - 1s 625ms/step - loss: 121.4862 - rmse: 11.0221 - mse: 121.4862 - val_loss: 110.0265 - val_rmse: 10.4831 - val_mse: 110.0265\n",
      "Epoch 11/50\n",
      "1/1 [==============================] - 0s 403ms/step - loss: 123.9745 - rmse: 11.1344 - mse: 123.9745 - val_loss: 109.9386 - val_rmse: 10.4701 - val_mse: 109.9386\n",
      "Epoch 12/50\n",
      "1/1 [==============================] - 0s 431ms/step - loss: 78.8609 - rmse: 8.8804 - mse: 78.8609 - val_loss: 111.6434 - val_rmse: 10.5521 - val_mse: 111.6434\n",
      "Epoch 13/50\n",
      "1/1 [==============================] - 0s 309ms/step - loss: 81.6029 - rmse: 9.0334 - mse: 81.6029 - val_loss: 114.0853 - val_rmse: 10.6657 - val_mse: 114.0853\n",
      "Epoch 14/50\n",
      "1/1 [==============================] - 0s 411ms/step - loss: 85.0467 - rmse: 9.2221 - mse: 85.0467 - val_loss: 113.0814 - val_rmse: 10.6259 - val_mse: 113.0814\n",
      "Epoch 15/50\n",
      "1/1 [==============================] - 0s 432ms/step - loss: 80.0426 - rmse: 8.9467 - mse: 80.0426 - val_loss: 114.5308 - val_rmse: 10.6950 - val_mse: 114.5308\n",
      "Epoch 16/50\n",
      "1/1 [==============================] - 1s 528ms/step - loss: 89.0582 - rmse: 9.4371 - mse: 89.0582 - val_loss: 113.7487 - val_rmse: 10.6501 - val_mse: 113.7487\n",
      "Epoch 17/50\n",
      "1/1 [==============================] - 0s 467ms/step - loss: 99.9386 - rmse: 9.9969 - mse: 99.9386 - val_loss: 112.8423 - val_rmse: 10.6029 - val_mse: 112.8423\n",
      "Epoch 18/50\n",
      "1/1 [==============================] - 1s 606ms/step - loss: 79.3031 - rmse: 8.9052 - mse: 79.3031 - val_loss: 110.9709 - val_rmse: 10.5174 - val_mse: 110.9709\n",
      "Epoch 19/50\n",
      "1/1 [==============================] - 1s 612ms/step - loss: 111.5913 - rmse: 10.5637 - mse: 111.5913 - val_loss: 109.9339 - val_rmse: 10.4663 - val_mse: 109.9339\n",
      "Epoch 20/50\n",
      "1/1 [==============================] - 0s 375ms/step - loss: 85.3594 - rmse: 9.2390 - mse: 85.3594 - val_loss: 110.8976 - val_rmse: 10.5152 - val_mse: 110.8976\n",
      "Epoch 21/50\n",
      "1/1 [==============================] - 1s 544ms/step - loss: 92.5796 - rmse: 9.6218 - mse: 92.5796 - val_loss: 110.5512 - val_rmse: 10.5000 - val_mse: 110.5512\n",
      "Epoch 22/50\n",
      "1/1 [==============================] - 1s 528ms/step - loss: 92.3207 - rmse: 9.6084 - mse: 92.3207 - val_loss: 110.3210 - val_rmse: 10.4839 - val_mse: 110.3210\n",
      "Epoch 23/50\n",
      "1/1 [==============================] - 1s 626ms/step - loss: 79.0892 - rmse: 8.8932 - mse: 79.0892 - val_loss: 112.0910 - val_rmse: 10.5577 - val_mse: 112.0910\n",
      "Epoch 24/50\n",
      "1/1 [==============================] - 1s 622ms/step - loss: 105.4911 - rmse: 10.2709 - mse: 105.4911 - val_loss: 109.5594 - val_rmse: 10.4451 - val_mse: 109.5594\n",
      "Epoch 25/50\n",
      "1/1 [==============================] - 0s 306ms/step - loss: 88.8383 - rmse: 9.4254 - mse: 88.8383 - val_loss: 110.3241 - val_rmse: 10.4912 - val_mse: 110.3241\n",
      "Epoch 26/50\n",
      "1/1 [==============================] - 0s 290ms/step - loss: 82.5700 - rmse: 9.0868 - mse: 82.5700 - val_loss: 109.8737 - val_rmse: 10.4710 - val_mse: 109.8737\n",
      "Epoch 27/50\n",
      "1/1 [==============================] - 0s 318ms/step - loss: 89.0073 - rmse: 9.4344 - mse: 89.0073 - val_loss: 112.1748 - val_rmse: 10.5769 - val_mse: 112.1748\n",
      "Epoch 28/50\n",
      "1/1 [==============================] - 0s 311ms/step - loss: 111.1455 - rmse: 10.5426 - mse: 111.1455 - val_loss: 112.6301 - val_rmse: 10.5548 - val_mse: 112.6301\n",
      "Epoch 29/50\n",
      "1/1 [==============================] - 0s 282ms/step - loss: 100.7137 - rmse: 10.0356 - mse: 100.7137 - val_loss: 109.9837 - val_rmse: 10.4785 - val_mse: 109.9837\n",
      "Epoch 30/50\n",
      "1/1 [==============================] - 0s 296ms/step - loss: 105.0692 - rmse: 10.2503 - mse: 105.0692 - val_loss: 109.9907 - val_rmse: 10.4787 - val_mse: 109.9907\n",
      "Epoch 31/50\n",
      "1/1 [==============================] - 0s 334ms/step - loss: 87.4401 - rmse: 9.3509 - mse: 87.4401 - val_loss: 110.0313 - val_rmse: 10.4785 - val_mse: 110.0313\n",
      "Epoch 32/50\n",
      "1/1 [==============================] - 0s 311ms/step - loss: 102.4081 - rmse: 10.1197 - mse: 102.4081 - val_loss: 112.4628 - val_rmse: 10.5807 - val_mse: 112.4628\n",
      "Epoch 33/50\n",
      "1/1 [==============================] - 0s 321ms/step - loss: 87.8483 - rmse: 9.3727 - mse: 87.8483 - val_loss: 111.1729 - val_rmse: 10.5341 - val_mse: 111.1729\n",
      "Epoch 34/50\n",
      "1/1 [==============================] - 0s 316ms/step - loss: 90.1358 - rmse: 9.4940 - mse: 90.1358 - val_loss: 111.0245 - val_rmse: 10.5308 - val_mse: 111.0245\n"
     ]
    },
    {
     "name": "stdout",
     "output_type": "stream",
     "text": [
      "Epoch 35/50\n",
      "1/1 [==============================] - 0s 308ms/step - loss: 107.9035 - rmse: 10.3877 - mse: 107.9035 - val_loss: 110.1823 - val_rmse: 10.4752 - val_mse: 110.1823\n",
      "Epoch 36/50\n",
      "1/1 [==============================] - 0s 478ms/step - loss: 133.5452 - rmse: 11.5562 - mse: 133.5452 - val_loss: 110.0206 - val_rmse: 10.4479 - val_mse: 110.0206\n",
      "Epoch 37/50\n",
      "1/1 [==============================] - 1s 587ms/step - loss: 100.2383 - rmse: 10.0119 - mse: 100.2383 - val_loss: 108.3507 - val_rmse: 10.3941 - val_mse: 108.3507\n",
      "Epoch 38/50\n",
      "1/1 [==============================] - 1s 566ms/step - loss: 72.8276 - rmse: 8.5339 - mse: 72.8276 - val_loss: 108.8971 - val_rmse: 10.4127 - val_mse: 108.8971\n",
      "Epoch 39/50\n",
      "1/1 [==============================] - 1s 602ms/step - loss: 99.6640 - rmse: 9.9832 - mse: 99.6640 - val_loss: 110.0036 - val_rmse: 10.4798 - val_mse: 110.0036\n",
      "Epoch 40/50\n",
      "1/1 [==============================] - 1s 517ms/step - loss: 86.4139 - rmse: 9.2959 - mse: 86.4139 - val_loss: 111.2829 - val_rmse: 10.5432 - val_mse: 111.2829\n",
      "Epoch 41/50\n",
      "1/1 [==============================] - 1s 744ms/step - loss: 87.3931 - rmse: 9.3484 - mse: 87.3931 - val_loss: 111.0233 - val_rmse: 10.5210 - val_mse: 111.0233\n",
      "Epoch 42/50\n",
      "1/1 [==============================] - 0s 476ms/step - loss: 96.7651 - rmse: 9.8369 - mse: 96.7651 - val_loss: 109.4824 - val_rmse: 10.4508 - val_mse: 109.4824\n",
      "Epoch 43/50\n",
      "1/1 [==============================] - 0s 289ms/step - loss: 119.0871 - rmse: 10.9127 - mse: 119.0871 - val_loss: 109.9059 - val_rmse: 10.4442 - val_mse: 109.9059\n",
      "Epoch 44/50\n",
      "1/1 [==============================] - 0s 314ms/step - loss: 86.7495 - rmse: 9.3139 - mse: 86.7495 - val_loss: 109.7867 - val_rmse: 10.4550 - val_mse: 109.7867\n",
      "Epoch 45/50\n",
      "1/1 [==============================] - 0s 322ms/step - loss: 86.1452 - rmse: 9.2814 - mse: 86.1452 - val_loss: 109.7653 - val_rmse: 10.4582 - val_mse: 109.7653\n",
      "Epoch 46/50\n",
      "1/1 [==============================] - 0s 279ms/step - loss: 87.9926 - rmse: 9.3804 - mse: 87.9926 - val_loss: 111.6738 - val_rmse: 10.5395 - val_mse: 111.6738\n",
      "Epoch 47/50\n",
      "1/1 [==============================] - 0s 320ms/step - loss: 96.9319 - rmse: 9.8454 - mse: 96.9319 - val_loss: 111.7997 - val_rmse: 10.5573 - val_mse: 111.7997\n",
      "Epoch 48/50\n",
      "1/1 [==============================] - 0s 330ms/step - loss: 75.3914 - rmse: 8.6828 - mse: 75.3914 - val_loss: 111.1320 - val_rmse: 10.5334 - val_mse: 111.1320\n",
      "Epoch 49/50\n",
      "1/1 [==============================] - 0s 298ms/step - loss: 80.0378 - rmse: 8.9464 - mse: 80.0378 - val_loss: 111.9841 - val_rmse: 10.5413 - val_mse: 111.9841\n",
      "Epoch 50/50\n",
      "1/1 [==============================] - 0s 458ms/step - loss: 90.5755 - rmse: 9.5171 - mse: 90.5755 - val_loss: 111.1263 - val_rmse: 10.5253 - val_mse: 111.1263\n"
     ]
    }
   ],
   "source": [
    "%time \n",
    "# TODO 3\n",
    "steps_per_epoch = NUM_TRAIN_EXAMPLES // (TRAIN_BATCH_SIZE * NUM_EVALS)\n",
    "\n",
    "LOGDIR = \"./taxi_trained\"\n",
    "# Train the sequential model\n",
    "history = model.fit(x=trainds,\n",
    "                    steps_per_epoch=steps_per_epoch,\n",
    "                    epochs=NUM_EVALS,\n",
    "                    validation_data=evalds,\n",
    "                    callbacks=[TensorBoard(LOGDIR)])"
   ]
  },
  {
   "cell_type": "markdown",
   "metadata": {},
   "source": [
    "### High-level model evaluation\n",
    "\n",
    "Once we've run data through the model, we can call `.summary()` on the model to get a high-level summary of our network. We can also plot the training and evaluation curves for the metrics we computed above. "
   ]
  },
  {
   "cell_type": "code",
   "execution_count": 38,
   "metadata": {},
   "outputs": [
    {
     "name": "stdout",
     "output_type": "stream",
     "text": [
      "Model: \"sequential\"\n",
      "_________________________________________________________________\n",
      "Layer (type)                 Output Shape              Param #   \n",
      "=================================================================\n",
      "dense_features (DenseFeature multiple                  0         \n",
      "_________________________________________________________________\n",
      "h1 (Dense)                   multiple                  192       \n",
      "_________________________________________________________________\n",
      "h2 (Dense)                   multiple                  264       \n",
      "_________________________________________________________________\n",
      "output (Dense)               multiple                  9         \n",
      "=================================================================\n",
      "Total params: 465\n",
      "Trainable params: 465\n",
      "Non-trainable params: 0\n",
      "_________________________________________________________________\n"
     ]
    }
   ],
   "source": [
    "# The summary() is a generic function used to produce result summaries of the results of various model fitting functions.\n",
    "model.summary()"
   ]
  },
  {
   "cell_type": "markdown",
   "metadata": {},
   "source": [
    "Running `.fit` (or `.fit_generator`) returns a History object which collects all the events recorded during training. Similar to Tensorboard, we can plot the training and validation curves for the model loss and rmse by accessing these elements of the History object."
   ]
  },
  {
   "cell_type": "code",
   "execution_count": 39,
   "metadata": {},
   "outputs": [
    {
     "data": {
      "text/plain": [
       "<AxesSubplot:>"
      ]
     },
     "execution_count": 39,
     "metadata": {},
     "output_type": "execute_result"
    },
    {
     "data": {
      "image/png": "[encoded data removed]",
      "text/plain": [
       "<Figure size 432x288 with 1 Axes>"
      ]
     },
     "metadata": {
      "needs_background": "light"
     },
     "output_type": "display_data"
    }
   ],
   "source": [
    "RMSE_COLS = ['rmse', 'val_rmse']\n",
    "\n",
    "# The history object is returned from calls to the fit() function used to train the model.\n",
    "# Metrics are stored in a dictionary in the history member of the object returned.\n",
    "pd.DataFrame(history.history)[RMSE_COLS].plot()"
   ]
  },
  {
   "cell_type": "code",
   "execution_count": 40,
   "metadata": {},
   "outputs": [
    {
     "data": {
      "text/plain": [
       "<AxesSubplot:>"
      ]
     },
     "execution_count": 40,
     "metadata": {},
     "output_type": "execute_result"
    },
    {
     "data": {
      "image/png": "[encoded data removed]",
      "text/plain": [
       "<Figure size 432x288 with 1 Axes>"
      ]
     },
     "metadata": {
      "needs_background": "light"
     },
     "output_type": "display_data"
    }
   ],
   "source": [
    "LOSS_COLS = ['loss', 'val_loss']\n",
    "\n",
    "# The history object is returned from calls to the fit() function used to train the model.\n",
    "# Metrics are stored in a dictionary in the history member of the object returned.\n",
    "pd.DataFrame(history.history)[LOSS_COLS].plot()"
   ]
  },
  {
   "cell_type": "markdown",
   "metadata": {},
   "source": [
    "# Making predictions with our model\n",
    "\n",
    "To make predictions with our trained model, we can call the [predict method](https://www.tensorflow.org/api_docs/python/tf/keras/Model#predict), passing to it a dictionary of values. The `steps` parameter determines the total number of steps before declaring the prediction round finished. Here since we have just one example, we set `steps=1` (setting `steps=None` would also work). Note, however, that if x is a `tf.data` dataset or a dataset iterator, and steps is set to None, predict will run until the input dataset is exhausted."
   ]
  },
  {
   "cell_type": "code",
   "execution_count": 41,
   "metadata": {},
   "outputs": [
    {
     "name": "stdout",
     "output_type": "stream",
     "text": [
      "WARNING:tensorflow:Layers in a Sequential model should only have a single input tensor, but we receive a <class 'dict'> input: {'pickup_longitude': <tf.Tensor 'ExpandDims_4:0' shape=(1, 1) dtype=float32>, 'pickup_latitude': <tf.Tensor 'ExpandDims_3:0' shape=(1, 1) dtype=float32>, 'dropoff_longitude': <tf.Tensor 'ExpandDims_1:0' shape=(1, 1) dtype=float32>, 'dropoff_latitude': <tf.Tensor 'ExpandDims:0' shape=(1, 1) dtype=float32>, 'passenger_count': <tf.Tensor 'ExpandDims_2:0' shape=(1, 1) dtype=float32>}\n",
      "Consider rewriting this model with the Functional API.\n"
     ]
    },
    {
     "data": {
      "text/plain": [
       "array([[11.246874]], dtype=float32)"
      ]
     },
     "execution_count": 41,
     "metadata": {},
     "output_type": "execute_result"
    }
   ],
   "source": [
    "# The predict() method will predict the response for model. \n",
    "# Using tf.convert_to_tensor() we will convert the given value to a Tensor. \n",
    "model.predict(x={\"pickup_longitude\": tf.convert_to_tensor([-73.982683]),\n",
    "                 \"pickup_latitude\": tf.convert_to_tensor([40.742104]),\n",
    "                 \"dropoff_longitude\": tf.convert_to_tensor([-73.983766]),\n",
    "                 \"dropoff_latitude\": tf.convert_to_tensor([40.755174]),\n",
    "                 \"passenger_count\": tf.convert_to_tensor([3.0])},\n",
    "              steps=1)"
   ]
  },
  {
   "cell_type": "markdown",
   "metadata": {},
   "source": [
    "# Export and deploy our model\n",
    "\n",
    "Of course, making individual predictions is not realistic, because we can't expect client code to have a model object in memory. For others to use our trained model, we'll have to export our model to a file, and expect client code to instantiate the model from that exported file. \n",
    "\n",
    "We'll export the model to a TensorFlow SavedModel format. Once we have a model in this format, we have lots of ways to \"serve\" the model, from a web application, from JavaScript, from mobile applications, etc."
   ]
  },
  {
   "cell_type": "code",
   "execution_count": 42,
   "metadata": {},
   "outputs": [
    {
     "name": "stdout",
     "output_type": "stream",
     "text": [
      "WARNING:tensorflow:Layers in a Sequential model should only have a single input tensor, but we receive a <class 'collections.OrderedDict'> input: OrderedDict([('pickup_longitude', <tf.Tensor 'pickup_longitude:0' shape=(None, 1) dtype=float32>), ('pickup_latitude', <tf.Tensor 'pickup_latitude:0' shape=(None, 1) dtype=float32>), ('dropoff_longitude', <tf.Tensor 'dropoff_longitude:0' shape=(None, 1) dtype=float32>), ('dropoff_latitude', <tf.Tensor 'dropoff_latitude:0' shape=(None, 1) dtype=float32>), ('passenger_count', <tf.Tensor 'passenger_count:0' shape=(None, 1) dtype=float32>)])\n",
      "Consider rewriting this model with the Functional API.\n",
      "WARNING:tensorflow:Layers in a Sequential model should only have a single input tensor, but we receive a <class 'collections.OrderedDict'> input: OrderedDict([('pickup_longitude', <tf.Tensor 'pickup_longitude:0' shape=(None, 1) dtype=float32>), ('pickup_latitude', <tf.Tensor 'pickup_latitude:0' shape=(None, 1) dtype=float32>), ('dropoff_longitude', <tf.Tensor 'dropoff_longitude:0' shape=(None, 1) dtype=float32>), ('dropoff_latitude', <tf.Tensor 'dropoff_latitude:0' shape=(None, 1) dtype=float32>), ('passenger_count', <tf.Tensor 'passenger_count:0' shape=(None, 1) dtype=float32>)])\n",
      "Consider rewriting this model with the Functional API.\n",
      "WARNING:tensorflow:Layers in a Sequential model should only have a single input tensor, but we receive a <class 'collections.OrderedDict'> input: OrderedDict([('pickup_longitude', <tf.Tensor 'pickup_longitude:0' shape=(None, 1) dtype=float32>), ('pickup_latitude', <tf.Tensor 'pickup_latitude:0' shape=(None, 1) dtype=float32>), ('dropoff_longitude', <tf.Tensor 'dropoff_longitude:0' shape=(None, 1) dtype=float32>), ('dropoff_latitude', <tf.Tensor 'dropoff_latitude:0' shape=(None, 1) dtype=float32>), ('passenger_count', <tf.Tensor 'passenger_count:0' shape=(None, 1) dtype=float32>)])\n",
      "Consider rewriting this model with the Functional API.\n",
      "WARNING:tensorflow:Layers in a Sequential model should only have a single input tensor, but we receive a <class 'collections.OrderedDict'> input: OrderedDict([('pickup_longitude', <tf.Tensor 'inputs_4:0' shape=(None, 1) dtype=float32>), ('pickup_latitude', <tf.Tensor 'inputs_3:0' shape=(None, 1) dtype=float32>), ('dropoff_longitude', <tf.Tensor 'inputs_1:0' shape=(None, 1) dtype=float32>), ('dropoff_latitude', <tf.Tensor 'inputs:0' shape=(None, 1) dtype=float32>), ('passenger_count', <tf.Tensor 'inputs_2:0' shape=(None, 1) dtype=float32>)])\n",
      "Consider rewriting this model with the Functional API.\n",
      "WARNING:tensorflow:Layers in a Sequential model should only have a single input tensor, but we receive a <class 'collections.OrderedDict'> input: OrderedDict([('pickup_longitude', <tf.Tensor 'inputs_4:0' shape=(None, 1) dtype=float32>), ('pickup_latitude', <tf.Tensor 'inputs_3:0' shape=(None, 1) dtype=float32>), ('dropoff_longitude', <tf.Tensor 'inputs_1:0' shape=(None, 1) dtype=float32>), ('dropoff_latitude', <tf.Tensor 'inputs:0' shape=(None, 1) dtype=float32>), ('passenger_count', <tf.Tensor 'inputs_2:0' shape=(None, 1) dtype=float32>)])\n",
      "Consider rewriting this model with the Functional API.\n",
      "WARNING:tensorflow:From /home/fahim/anaconda3/lib/python3.8/site-packages/tensorflow/python/training/tracking/tracking.py:111: Model.state_updates (from tensorflow.python.keras.engine.training) is deprecated and will be removed in a future version.\n",
      "Instructions for updating:\n",
      "This property should not be used in TensorFlow 2.0, as updates are applied automatically.\n",
      "WARNING:tensorflow:From /home/fahim/anaconda3/lib/python3.8/site-packages/tensorflow/python/training/tracking/tracking.py:111: Layer.updates (from tensorflow.python.keras.engine.base_layer) is deprecated and will be removed in a future version.\n",
      "Instructions for updating:\n",
      "This property should not be used in TensorFlow 2.0, as updates are applied automatically.\n",
      "WARNING:tensorflow:Layers in a Sequential model should only have a single input tensor, but we receive a <class 'collections.OrderedDict'> input: OrderedDict([('pickup_longitude', <tf.Tensor 'inputs/pickup_longitude:0' shape=(None, 1) dtype=float32>), ('pickup_latitude', <tf.Tensor 'inputs/pickup_latitude:0' shape=(None, 1) dtype=float32>), ('dropoff_longitude', <tf.Tensor 'inputs/dropoff_longitude:0' shape=(None, 1) dtype=float32>), ('dropoff_latitude', <tf.Tensor 'inputs/dropoff_latitude:0' shape=(None, 1) dtype=float32>), ('passenger_count', <tf.Tensor 'inputs/passenger_count:0' shape=(None, 1) dtype=float32>)])\n",
      "Consider rewriting this model with the Functional API.\n",
      "WARNING:tensorflow:Layers in a Sequential model should only have a single input tensor, but we receive a <class 'collections.OrderedDict'> input: OrderedDict([('pickup_longitude', <tf.Tensor 'inputs/pickup_longitude:0' shape=(None, 1) dtype=float32>), ('pickup_latitude', <tf.Tensor 'inputs/pickup_latitude:0' shape=(None, 1) dtype=float32>), ('dropoff_longitude', <tf.Tensor 'inputs/dropoff_longitude:0' shape=(None, 1) dtype=float32>), ('dropoff_latitude', <tf.Tensor 'inputs/dropoff_latitude:0' shape=(None, 1) dtype=float32>), ('passenger_count', <tf.Tensor 'inputs/passenger_count:0' shape=(None, 1) dtype=float32>)])\n",
      "Consider rewriting this model with the Functional API.\n",
      "WARNING:tensorflow:Layers in a Sequential model should only have a single input tensor, but we receive a <class 'collections.OrderedDict'> input: OrderedDict([('pickup_longitude', <tf.Tensor 'pickup_longitude:0' shape=(None, 1) dtype=float32>), ('pickup_latitude', <tf.Tensor 'pickup_latitude:0' shape=(None, 1) dtype=float32>), ('dropoff_longitude', <tf.Tensor 'dropoff_longitude:0' shape=(None, 1) dtype=float32>), ('dropoff_latitude', <tf.Tensor 'dropoff_latitude:0' shape=(None, 1) dtype=float32>), ('passenger_count', <tf.Tensor 'passenger_count:0' shape=(None, 1) dtype=float32>)])\n",
      "Consider rewriting this model with the Functional API.\n",
      "WARNING:tensorflow:Layers in a Sequential model should only have a single input tensor, but we receive a <class 'collections.OrderedDict'> input: OrderedDict([('pickup_longitude', <tf.Tensor 'pickup_longitude:0' shape=(None, 1) dtype=float32>), ('pickup_latitude', <tf.Tensor 'pickup_latitude:0' shape=(None, 1) dtype=float32>), ('dropoff_longitude', <tf.Tensor 'dropoff_longitude:0' shape=(None, 1) dtype=float32>), ('dropoff_latitude', <tf.Tensor 'dropoff_latitude:0' shape=(None, 1) dtype=float32>), ('passenger_count', <tf.Tensor 'passenger_count:0' shape=(None, 1) dtype=float32>)])\n",
      "Consider rewriting this model with the Functional API.\n",
      "INFO:tensorflow:Assets written to: ./export/savedmodel/20201116021223/assets\n"
     ]
    }
   ],
   "source": [
    "# TODO 4a\n",
    "OUTPUT_DIR = \"./export/savedmodel\"\n",
    "shutil.rmtree(OUTPUT_DIR, ignore_errors=True)\n",
    "# The join() method takes all items in an iterable and joins them into one string.\n",
    "EXPORT_PATH = os.path.join(OUTPUT_DIR,\n",
    "                           datetime.datetime.now().strftime(\"%Y%m%d%H%M%S\"))\n",
    "tf.saved_model.save(model, EXPORT_PATH)  # with default serving function"
   ]
  },
  {
   "cell_type": "code",
   "execution_count": 43,
   "metadata": {},
   "outputs": [
    {
     "name": "stdout",
     "output_type": "stream",
     "text": [
      "2020-11-16 02:12:29.560520: W tensorflow/stream_executor/platform/default/dso_loader.cc:59] Could not load dynamic library 'libcudart.so.10.1'; dlerror: libcudart.so.10.1: cannot open shared object file: No such file or directory\n",
      "2020-11-16 02:12:29.560557: I tensorflow/stream_executor/cuda/cudart_stub.cc:29] Ignore above cudart dlerror if you do not have a GPU set up on your machine.\n",
      "The given SavedModel SignatureDef contains the following input(s):\n",
      "  inputs['dropoff_latitude'] tensor_info:\n",
      "      dtype: DT_FLOAT\n",
      "      shape: (-1, 1)\n",
      "      name: serving_default_dropoff_latitude:0\n",
      "  inputs['dropoff_longitude'] tensor_info:\n",
      "      dtype: DT_FLOAT\n",
      "      shape: (-1, 1)\n",
      "      name: serving_default_dropoff_longitude:0\n",
      "  inputs['passenger_count'] tensor_info:\n",
      "      dtype: DT_FLOAT\n",
      "      shape: (-1, 1)\n",
      "      name: serving_default_passenger_count:0\n",
      "  inputs['pickup_latitude'] tensor_info:\n",
      "      dtype: DT_FLOAT\n",
      "      shape: (-1, 1)\n",
      "      name: serving_default_pickup_latitude:0\n",
      "  inputs['pickup_longitude'] tensor_info:\n",
      "      dtype: DT_FLOAT\n",
      "      shape: (-1, 1)\n",
      "      name: serving_default_pickup_longitude:0\n",
      "The given SavedModel SignatureDef contains the following output(s):\n",
      "  outputs['output_1'] tensor_info:\n",
      "      dtype: DT_FLOAT\n",
      "      shape: (-1, 1)\n",
      "      name: StatefulPartitionedCall:0\n",
      "Method name is: tensorflow/serving/predict\n",
      "./export/savedmodel/20201116021223\n",
      "./export/savedmodel/20201116021223/variables\n",
      "./export/savedmodel/20201116021223/variables/variables.data-00000-of-00001\n",
      "./export/savedmodel/20201116021223/variables/variables.index\n",
      "./export/savedmodel/20201116021223/saved_model.pb\n",
      "./export/savedmodel/20201116021223/assets\n"
     ]
    }
   ],
   "source": [
    "# Export the model to a TensorFlow SavedModel format\n",
    "# TODO 4b\n",
    "!saved_model_cli show \\\n",
    " --tag_set serve \\\n",
    " --signature_def serving_default \\\n",
    " --dir {EXPORT_PATH}\n",
    "!find {EXPORT_PATH}\n",
    "os.environ['EXPORT_PATH'] = EXPORT_PATH"
   ]
  }
 ],
 "metadata": {
  "kernelspec": {
   "display_name": "Python 3",
   "language": "python",
   "name": "python3"
  },
  "language_info": {
   "codemirror_mode": {
    "name": "ipython",
    "version": 3
   },
   "file_extension": ".py",
   "mimetype": "text/x-python",
   "name": "python",
   "nbconvert_exporter": "python",
   "pygments_lexer": "ipython3",
   "version": "3.8.3"
  }
 },
 "nbformat": 4,
 "nbformat_minor": 4
}
